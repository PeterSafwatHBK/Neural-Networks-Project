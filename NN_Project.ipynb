{
  "cells": [
    {
      "cell_type": "code",
      "execution_count": null,
      "metadata": {
        "colab": {
          "base_uri": "https://localhost:8080/"
        },
        "id": "dnVNHkMsnDbp",
        "outputId": "9aa1031a-2469-43f0-f83e-d1e3ba32a2da"
      },
      "outputs": [],
      "source": [
        "import numpy as np\n",
        "import pandas as pd\n",
        "import matplotlib.pyplot as plt\n",
        "import seaborn as sns\n",
        "import warnings\n",
        "warnings.filterwarnings('ignore')\n",
        "# from google.colab import drive\n",
        "# drive.mount('/content/drive')\n",
        "# import pandas as pd"
      ]
    },
    {
      "cell_type": "code",
      "execution_count": null,
      "metadata": {
        "colab": {
          "base_uri": "https://localhost:8080/",
          "height": 1000
        },
        "id": "UwuXtj7kCBlW",
        "outputId": "17d7ee1e-a26b-4ec5-a6c8-f30d5b238510"
      },
      "outputs": [],
      "source": [
        "# Update this path to match your file's location in Google Drive\n",
        "# file_path = '/content/drive/MyDrive/features.csv'\n",
        "# df = pd.read_csv(file_path, on_bad_lines='skip')\n",
        "df = pd.read_csv('features.csv', on_bad_lines='skip')\n",
        "print(df.info())\n",
        "print(\"\\nMissing values per column:\")\n",
        "print(df.isnull().sum())\n",
        "print(\"\\nLabel distribution:\")\n",
        "print(df['label'].value_counts())\n",
        "df"
      ]
    },
    {
      "cell_type": "code",
      "execution_count": null,
      "metadata": {
        "colab": {
          "base_uri": "https://localhost:8080/"
        },
        "id": "et16SV350nhU",
        "outputId": "fc7de410-330f-4dbd-fcb5-afbd8166f927"
      },
      "outputs": [],
      "source": [
        "df_clean = df.dropna(subset=['energy'], how='all')\n",
        "\n",
        "print(f\"Original shape: {df.shape}, Cleaned shape: {df_clean.shape}\")"
      ]
    },
    {
      "cell_type": "code",
      "execution_count": null,
      "metadata": {
        "id": "xA6fAywh00EF"
      },
      "outputs": [],
      "source": [
        "# Calculate signal-to-noise ratio (approximation)\n",
        "df_clean['snr'] = df_clean['rms_mean'] / (df_clean['rms_std'] + 1e-10)\n",
        "\n",
        "# Create a \"vocal range\" feature\n",
        "df_clean['vocal_range'] = df_clean['pitch_max'] - df_clean['pitch_min']"
      ]
    },
    {
      "cell_type": "code",
      "execution_count": null,
      "metadata": {
        "colab": {
          "base_uri": "https://localhost:8080/",
          "height": 487
        },
        "id": "JQS3lHNF3XuG",
        "outputId": "047b454a-8a98-4abb-bf1e-64a13efce04c"
      },
      "outputs": [],
      "source": [
        "plt.figure(figsize=(8,5))\n",
        "sns.countplot(x='label', data=df_clean)\n",
        "plt.title('Distribution of Labels')\n",
        "plt.show()"
      ]
    },
    {
      "cell_type": "code",
      "execution_count": null,
      "metadata": {
        "id": "Eu82rNphrcrf"
      },
      "outputs": [],
      "source": [
        "# label_0_indices = df_clean[df_clean['label'] == 0].index[:100000]\n",
        "# df_clean = df_clean.drop(label_0_indices)"
      ]
    },
    {
      "cell_type": "code",
      "execution_count": null,
      "metadata": {
        "id": "6XFK3ljuN-eC"
      },
      "outputs": [],
      "source": [
        "import pandas as pd\n",
        "from sklearn.utils import resample\n",
        "\n",
        "# Make a copy of the original dataframe\n",
        "df_balanced = df_clean.copy()\n",
        "\n",
        "# 1. Balance 'label' categories\n",
        "df_majority_1 = df_clean[df_clean.label == 0]\n",
        "df_class_1 = df_clean[df_clean.label == 1]\n",
        "df_class_2 = df_clean[df_clean.label == 2]\n",
        "df_class_3 = df_clean[df_clean.label == 3]\n",
        "\n",
        "n_samples_1 = len(df_majority_1)\n",
        "\n",
        "# Upsample minority classes for 'label'\n",
        "df_class_1_upsampled = resample(df_class_1, replace=True, n_samples=n_samples_1, random_state=42)\n",
        "df_class_2_upsampled = resample(df_class_2, replace=True, n_samples=n_samples_1, random_state=42)\n",
        "df_class_3_upsampled = resample(df_class_3, replace=True, n_samples=n_samples_1, random_state=42)\n",
        "\n",
        "# Create balanced dataframe for 'label'\n",
        "df_label_balanced = pd.concat([df_majority_1, df_class_1_upsampled, df_class_2_upsampled, df_class_3_upsampled])\n",
        "\n",
        "# 2. Balance 'gender' categories\n",
        "df_majority_2 = df_label_balanced[df_label_balanced.gender == \"male\"]\n",
        "df_class_5 = df_label_balanced[df_label_balanced.gender == 'female']\n",
        "\n",
        "n_samples_2 = max(len(df_majority_2), len(df_class_5))\n",
        "\n",
        "# Upsample minority class for 'gender'\n",
        "if len(df_majority_2) < len(df_class_5):\n",
        "    df_majority_2 = resample(df_majority_2, replace=True, n_samples=n_samples_2, random_state=42)\n",
        "else:\n",
        "    df_class_5_upsampled = resample(df_class_5, replace=True, n_samples=n_samples_2, random_state=42)\n",
        "\n",
        "# Create balanced dataframe for 'gender'\n",
        "df_gender_balanced = pd.concat([df_majority_2, df_class_5_upsampled if len(df_majority_2) >= len(df_class_5) else df_class_5])\n",
        "\n",
        "# 3. Balance 'age' categories\n",
        "df_majority_3 = df_gender_balanced[df_gender_balanced.age == \"twenties\"]\n",
        "df_class_7 = df_gender_balanced[df_gender_balanced.age == 'fifties']\n",
        "\n",
        "n_samples_3 = max(len(df_majority_3), len(df_class_7))\n",
        "\n",
        "# Upsample minority class for 'age'\n",
        "if len(df_majority_3) < len(df_class_7):\n",
        "    df_majority_3 = resample(df_majority_3, replace=True, n_samples=n_samples_3, random_state=42)\n",
        "else:\n",
        "    df_class_7_upsampled = resample(df_class_7, replace=True, n_samples=n_samples_3, random_state=42)\n",
        "\n",
        "# Create final balanced dataframe\n",
        "df_clean = pd.concat([df_majority_3, df_class_7_upsampled if len(df_majority_3) >= len(df_class_7) else df_class_7])\n",
        "\n",
        "# Shuffle the dataset\n",
        "df_clean = df_clean.sample(frac=1, random_state=42).reset_index(drop=True)"
      ]
    },
    {
      "cell_type": "code",
      "execution_count": null,
      "metadata": {
        "colab": {
          "base_uri": "https://localhost:8080/",
          "height": 487
        },
        "id": "oN6YzRxuOBoj",
        "outputId": "b6730e37-1a32-4844-9fa9-0bdef996eec5"
      },
      "outputs": [],
      "source": [
        "import seaborn as sns\n",
        "import matplotlib.pyplot as plt\n",
        "\n",
        "plt.figure(figsize=(8,5))\n",
        "sns.countplot(x='label', data=df_clean)\n",
        "plt.title('Balanced Distribution of Labels (After Oversampling)')\n",
        "plt.show()\n"
      ]
    },
    {
      "cell_type": "code",
      "execution_count": null,
      "metadata": {
        "colab": {
          "base_uri": "https://localhost:8080/",
          "height": 487
        },
        "id": "MGIM6iOjBOKQ",
        "outputId": "d754c40b-3a06-4bde-ef72-ede531e62ab1"
      },
      "outputs": [],
      "source": [
        "plt.figure(figsize=(8,5))\n",
        "sns.countplot(x='gender', data=df_clean)\n",
        "plt.title('Distribution of Labels')\n",
        "plt.show()"
      ]
    },
    {
      "cell_type": "code",
      "execution_count": null,
      "metadata": {
        "colab": {
          "base_uri": "https://localhost:8080/",
          "height": 487
        },
        "id": "AWf7et8DBrnw",
        "outputId": "a7ab12a8-273a-47b2-f5c1-805329c210b2"
      },
      "outputs": [],
      "source": [
        "plt.figure(figsize=(8,5))\n",
        "sns.countplot(x='age', data=df_clean)\n",
        "plt.title('Distribution of Labels')\n",
        "plt.show()"
      ]
    },
    {
      "cell_type": "code",
      "execution_count": null,
      "metadata": {
        "colab": {
          "base_uri": "https://localhost:8080/",
          "height": 1000
        },
        "id": "mMu6Wb-n01kE",
        "outputId": "cf0849bb-1cff-46f7-8897-31d88d09415f"
      },
      "outputs": [],
      "source": [
        "features_to_plot = ['energy', 'pitch_mean', 'spectral_centroid_mean', 'tempo', 'zcr_mean']\n",
        "\n",
        "plt.figure(figsize=(15,10))\n",
        "for i, feature in enumerate(features_to_plot, 1):\n",
        "    plt.subplot(2, 3, i)\n",
        "    sns.boxplot(x='label', y=feature, data=df_clean)\n",
        "    plt.title(f'{feature} by Label')\n",
        "plt.tight_layout()\n",
        "plt.show()"
      ]
    },
    {
      "cell_type": "code",
      "execution_count": null,
      "metadata": {
        "colab": {
          "base_uri": "https://localhost:8080/",
          "height": 1000
        },
        "id": "OXnLIq371QJ0",
        "outputId": "6f4e617c-a3ed-4a91-88b4-3a6fb8296419"
      },
      "outputs": [],
      "source": [
        "# Calculate correlation matrix\n",
        "corr_matrix = df_clean.select_dtypes(include=[np.number]).corr()\n",
        "\n",
        "# Plot heatmap\n",
        "plt.figure(figsize=(15,12))\n",
        "sns.heatmap(corr_matrix, annot=False, cmap='coolwarm', center=0)\n",
        "plt.title('Feature Correlation Matrix')\n",
        "plt.show()"
      ]
    },
    {
      "cell_type": "code",
      "execution_count": null,
      "metadata": {
        "id": "JibuHwqx-NeW"
      },
      "outputs": [],
      "source": [
        "selected_features = [\n",
        "    'pitch_mean',\n",
        "    'pitch_std',\n",
        "    'spectral_centroid_mean',\n",
        "    'spectral_bandwidth_mean',\n",
        "    'spectral_rolloff_mean',\n",
        "    'energy'\n",
        "    # 'mfcc_1','mfcc_2','mfcc_3','mfcc_4','mfcc_5','mfcc_6','mfcc_7','mfcc_8','mfcc_9','mfcc_10','mfcc_11','mfcc_12','mfcc_13'\n",
        "]\n",
        "\n",
        "demographic_features = ['age', 'gender']"
      ]
    },
    {
      "cell_type": "code",
      "execution_count": null,
      "metadata": {
        "colab": {
          "base_uri": "https://localhost:8080/",
          "height": 278
        },
        "id": "zau7zsDq-UVH",
        "outputId": "094fb0d0-be59-4d9f-b178-c1ac5d1c395d"
      },
      "outputs": [],
      "source": [
        "from sklearn.model_selection import train_test_split\n",
        "from sklearn.preprocessing import StandardScaler, OneHotEncoder\n",
        "from sklearn.compose import ColumnTransformer\n",
        "from sklearn.pipeline import Pipeline\n",
        "\n",
        "# Separate features and target\n",
        "X = df_clean[selected_features + demographic_features]\n",
        "y = df_clean['label']\n",
        "\n",
        "# Split data\n",
        "X_train, X_test, y_train, y_test = train_test_split(\n",
        "    X, y, test_size=0.3, random_state=42, stratify=y)\n",
        "\n",
        "# Preprocessing pipeline\n",
        "numeric_features = selected_features\n",
        "numeric_transformer = Pipeline(steps=[\n",
        "    ('scaler', StandardScaler())])\n",
        "\n",
        "categorical_features = demographic_features\n",
        "categorical_transformer = Pipeline(steps=[\n",
        "    ('onehot', OneHotEncoder(handle_unknown='ignore'))])\n",
        "\n",
        "preprocessor = ColumnTransformer(\n",
        "    transformers=[\n",
        "        ('num', numeric_transformer, numeric_features),\n",
        "        ('cat', categorical_transformer, categorical_features)])\n",
        "\n",
        "print(f\"X_train shape: {X_train.shape}, y_train shape: {y_train.shape}\")\n",
        "print(f\"X_test shape: {X_test.shape}, y_test shape: {y_test.shape}\")\n",
        "X.head()\n"
      ]
    },
    {
      "cell_type": "code",
      "execution_count": null,
      "metadata": {
        "colab": {
          "base_uri": "https://localhost:8080/"
        },
        "id": "Hol7BhtN-We_",
        "outputId": "f8904985-a2c6-4b4e-cb62-53013de7ba1a"
      },
      "outputs": [],
      "source": [
        "from sklearn.ensemble import RandomForestClassifier\n",
        "\n",
        "# Prepare data (using only audio features)\n",
        "gender_features = X_train.drop(['age', 'gender'], axis=1)\n",
        "gender_target = X_train['gender']\n",
        "\n",
        "# Train/test split\n",
        "X_train_gender, X_test_gender, y_train_gender, y_test_gender = train_test_split(\n",
        "    gender_features, gender_target, test_size=0.3, random_state=42)\n",
        "\n",
        "# Train model\n",
        "gender_model = RandomForestClassifier()\n",
        "gender_model.fit(X_train_gender, y_train_gender)\n",
        "\n",
        "# Evaluate\n",
        "print(\"Gender Accuracy:\", gender_model.score(X_test_gender, y_test_gender))"
      ]
    },
    {
      "cell_type": "code",
      "execution_count": null,
      "metadata": {
        "colab": {
          "base_uri": "https://localhost:8080/"
        },
        "id": "vHfrpl1d-YH-",
        "outputId": "ccf71746-97c8-495c-b26c-f1e0cf34311a"
      },
      "outputs": [],
      "source": [
        "age_features = X_train.drop(['age', 'gender'], axis=1)\n",
        "age_target = X_train['age']\n",
        "\n",
        "X_train_age, X_test_age, y_train_age, y_test_age = train_test_split(\n",
        "    age_features, age_target, test_size=0.3, random_state=42)\n",
        "\n",
        "age_model = RandomForestClassifier()\n",
        "age_model.fit(X_train_age, y_train_age)\n",
        "\n",
        "print(\"Age Accuracy:\", age_model.score(X_test_age, y_test_age))"
      ]
    },
    {
      "cell_type": "code",
      "execution_count": null,
      "metadata": {
        "id": "7y3dSshVgd_t"
      },
      "outputs": [],
      "source": [
        "# label_features"
      ]
    },
    {
      "cell_type": "code",
      "execution_count": null,
      "metadata": {
        "colab": {
          "base_uri": "https://localhost:8080/"
        },
        "id": "p7Ey8o4eUnRT",
        "outputId": "caaea31c-f768-40fc-b778-376ca44ca0c8"
      },
      "outputs": [],
      "source": [
        "import pandas as pd\n",
        "from sklearn.model_selection import train_test_split\n",
        "from sklearn.preprocessing import StandardScaler, OneHotEncoder, LabelEncoder\n",
        "from sklearn.compose import ColumnTransformer\n",
        "from sklearn.pipeline import Pipeline\n",
        "from sklearn.ensemble import RandomForestClassifier\n",
        "from sklearn.metrics import classification_report\n",
        "\n",
        "# Load your dataset (replace with your actual data loading)\n",
        "# df_clean = pd.read_csv(\"your_data.csv\")\n",
        "\n",
        "# Define features (modify as needed)\n",
        "# selected_features = ['feature1', 'feature2', ...]  # Your audio features\n",
        "# demographic_features = ['age', 'gender']          # Demographic features\n",
        "\n",
        "# Separate features and target\n",
        "X = df_clean[selected_features + demographic_features]\n",
        "y = df_clean['label']\n",
        "\n",
        "# Split data (stratify by label)\n",
        "X_train, X_test, y_train, y_test = train_test_split(\n",
        "    X, y, test_size=0.3, random_state=42, stratify=y)\n",
        "\n",
        "# ==============================================\n",
        "# STEP 1: Train Demographic Predictors (Gender/Age)\n",
        "# ==============================================\n",
        "\n",
        "# Gender prediction model (using only audio features)\n",
        "X_train_gender = X_train[selected_features]\n",
        "y_train_gender = X_train['gender']\n",
        "\n",
        "gender_model = RandomForestClassifier(random_state=42)\n",
        "gender_model.fit(X_train_gender, y_train_gender)\n",
        "\n",
        "# Age prediction model (using only audio features)\n",
        "X_train_age = X_train[selected_features]\n",
        "y_train_age = X_train['age']\n",
        "\n",
        "age_model = RandomForestClassifier(random_state=42)\n",
        "age_model.fit(X_train_age, y_train_age)\n",
        "\n",
        "# Evaluate demographic models\n",
        "print(\"=== Gender Model Evaluation ===\")\n",
        "X_test_gender = X_test[selected_features]\n",
        "print(classification_report(X_test['gender'], gender_model.predict(X_test_gender)))\n",
        "\n",
        "print(\"\\n=== Age Model Evaluation ===\")\n",
        "X_test_age = X_test[selected_features]\n",
        "print(classification_report(X_test['age'], age_model.predict(X_test_age)))\n",
        "\n",
        "# ==============================================\n",
        "# STEP 2: Prepare Features for Final Model\n",
        "# ==============================================\n",
        "\n",
        "# Create encoders (fit only on training data)\n",
        "gender_encoder = LabelEncoder().fit(X_train['gender'])\n",
        "age_encoder = LabelEncoder().fit(X_train['age'])\n",
        "\n",
        "# Generate predicted demographics for train/test sets\n",
        "X_train_pred = X_train[selected_features].copy()\n",
        "X_train_pred['pred_gender'] = gender_model.predict(X_train[selected_features])\n",
        "X_train_pred['pred_age'] = age_model.predict(X_train[selected_features])\n",
        "\n",
        "X_test_pred = X_test[selected_features].copy()\n",
        "X_test_pred['pred_gender'] = gender_model.predict(X_test[selected_features])\n",
        "X_test_pred['pred_age'] = age_model.predict(X_test[selected_features])\n",
        "\n",
        "# Encode predicted demographics\n",
        "X_train_pred['pred_gender'] = gender_encoder.transform(X_train_pred['pred_gender'])\n",
        "X_train_pred['pred_age'] = age_encoder.transform(X_train_pred['pred_age'])\n",
        "X_test_pred['pred_gender'] = gender_encoder.transform(X_test_pred['pred_gender'])\n",
        "X_test_pred['pred_age'] = age_encoder.transform(X_test_pred['pred_age'])\n",
        "\n",
        "# ==============================================\n",
        "# STEP 3: Train Final Model\n",
        "# ==============================================\n",
        "\n",
        "# Preprocessing pipeline\n",
        "numeric_features = selected_features\n",
        "categorical_features = ['pred_gender', 'pred_age']\n",
        "\n",
        "numeric_transformer = Pipeline(steps=[('scaler', StandardScaler())])\n",
        "categorical_transformer = Pipeline(steps=[('onehot', OneHotEncoder(handle_unknown='ignore'))])\n",
        "\n",
        "preprocessor = ColumnTransformer(\n",
        "    transformers=[\n",
        "        ('num', numeric_transformer, numeric_features),\n",
        "        ('cat', categorical_transformer, categorical_features)])\n",
        "\n",
        "# Final model pipeline\n",
        "final_model = Pipeline([\n",
        "    ('preprocessor', preprocessor),\n",
        "    ('classifier', RandomForestClassifier(random_state=42))\n",
        "])\n",
        "\n",
        "# Train\n",
        "final_model.fit(X_train_pred, y_train)\n",
        "\n",
        "# Evaluate\n",
        "print(\"\\n=== Final Model Evaluation ===\")\n",
        "y_pred = final_model.predict(X_test_pred)\n",
        "print(classification_report(y_test, y_pred))\n",
        "\n",
        "# ==============================================\n",
        "# STEP 4: Prediction Function\n",
        "# ==============================================\n",
        "\n",
        "def predict_label(audio_features):\n",
        "    \"\"\"Predict label from audio features using the full pipeline\"\"\"\n",
        "    # Convert to DataFrame if needed\n",
        "    if not isinstance(audio_features, pd.DataFrame):\n",
        "        audio_features = pd.DataFrame([audio_features], columns=selected_features)\n",
        "\n",
        "    # Predict demographics\n",
        "    pred_gender = gender_model.predict(audio_features)[0]\n",
        "    pred_age = age_model.predict(audio_features)[0]\n",
        "\n",
        "    # Encode demographics\n",
        "    pred_gender_encoded = gender_encoder.transform([pred_gender])[0]\n",
        "    pred_age_encoded = age_encoder.transform([pred_age])[0]\n",
        "\n",
        "    # Combine features\n",
        "    features = audio_features.copy()\n",
        "    features['pred_gender'] = pred_gender_encoded\n",
        "    features['pred_age'] = pred_age_encoded\n",
        "\n",
        "    # Make final prediction\n",
        "    return final_model.predict(features)[0]"
      ]
    }
  ],
  "metadata": {
    "accelerator": "GPU",
    "colab": {
      "gpuType": "T4",
      "provenance": []
    },
    "kernelspec": {
      "display_name": "base",
      "language": "python",
      "name": "python3"
    },
    "language_info": {
      "codemirror_mode": {
        "name": "ipython",
        "version": 3
      },
      "file_extension": ".py",
      "mimetype": "text/x-python",
      "name": "python",
      "nbconvert_exporter": "python",
      "pygments_lexer": "ipython3",
      "version": "3.12.7"
    }
  },
  "nbformat": 4,
  "nbformat_minor": 0
}
